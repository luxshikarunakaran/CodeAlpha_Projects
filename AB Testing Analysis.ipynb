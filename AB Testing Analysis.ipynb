{
 "cells": [
  {
   "cell_type": "code",
   "execution_count": 1,
   "id": "dfc1c30d-cc54-4fd5-b5c9-63380ea0e8fd",
   "metadata": {},
   "outputs": [],
   "source": [
    "import pandas as pd\n",
    "import numpy as np\n",
    "from scipy import stats\n",
    "import matplotlib.pyplot as plt\n",
    "import seaborn as sns\n",
    "from statsmodels.stats.proportion import proportions_ztest\n"
   ]
  },
  {
   "cell_type": "code",
   "execution_count": 2,
   "id": "4dc4631f-1ffc-43a7-ad50-247edf009f6b",
   "metadata": {},
   "outputs": [],
   "source": [
    "# Step 1: Load Data\n",
    "data = {\n",
    "    'group': ['A'] * 1000 + ['B'] * 1000,\n",
    "    'converted': np.random.binomial(1, 0.05, 1000).tolist() + np.random.binomial(1, 0.07, 1000).tolist()\n",
    "}\n",
    "df = pd.DataFrame(data)"
   ]
  },
  {
   "cell_type": "code",
   "execution_count": 3,
   "id": "9c1c5c49-6fb1-49ee-878d-3a9150952723",
   "metadata": {},
   "outputs": [
    {
     "name": "stdout",
     "output_type": "stream",
     "text": [
      "Conversion Rates: group\n",
      "A    0.053\n",
      "B    0.065\n",
      "Name: converted, dtype: float64\n",
      "Counts:         mean  size\n",
      "group             \n",
      "A      0.053  1000\n",
      "B      0.065  1000\n"
     ]
    },
    {
     "name": "stderr",
     "output_type": "stream",
     "text": [
      "C:\\Users\\Luxshi\\AppData\\Local\\Temp\\ipykernel_3184\\2018101710.py:3: FutureWarning: The provided callable <function mean at 0x000001F09EEA4860> is currently using SeriesGroupBy.mean. In a future version of pandas, the provided callable will be used directly. To keep current behavior pass the string \"mean\" instead.\n",
      "  counts = df.groupby('group')['converted'].agg([np.mean, np.size])\n"
     ]
    }
   ],
   "source": [
    "# Step 2: Summary Statistics\n",
    "conversion_rates = df.groupby('group')['converted'].mean()\n",
    "counts = df.groupby('group')['converted'].agg([np.mean, np.size])\n",
    "print(\"Conversion Rates:\", conversion_rates)\n",
    "print(\"Counts:\", counts)"
   ]
  },
  {
   "cell_type": "code",
   "execution_count": 4,
   "id": "4d784517-185d-42e8-b41c-4c14904cbd01",
   "metadata": {},
   "outputs": [
    {
     "name": "stdout",
     "output_type": "stream",
     "text": [
      "Z-statistic: -1.138794682763669, P-value: 0.25478880009679983\n"
     ]
    }
   ],
   "source": [
    "# Step 3: Hypothesis Testing\n",
    "group_A = df[df['group'] == 'A']\n",
    "group_B = df[df['group'] == 'B']\n",
    "\n",
    "conv_A = group_A['converted'].mean()\n",
    "conv_B = group_B['converted'].mean()\n",
    "\n",
    "n_A = len(group_A)\n",
    "n_B = len(group_B)\n",
    "\n",
    "success_A = group_A['converted'].sum()\n",
    "success_B = group_B['converted'].sum()\n",
    "\n",
    "# Two-proportion z-test\n",
    "successes = [success_A, success_B]\n",
    "nobs = [n_A, n_B]\n",
    "\n",
    "z_stat, p_value = proportions_ztest(successes, nobs)\n",
    "print(f\"Z-statistic: {z_stat}, P-value: {p_value}\")"
   ]
  },
  {
   "cell_type": "code",
   "execution_count": 5,
   "id": "f7c3425c-a7ff-45af-b128-29b6eec7b561",
   "metadata": {},
   "outputs": [
    {
     "name": "stdout",
     "output_type": "stream",
     "text": [
      "95% Confidence Interval: [-0.008646718518931763, 0.03264671851893177]\n"
     ]
    }
   ],
   "source": [
    "# Step 4: Confidence Interval\n",
    "standard_error = np.sqrt(conv_A * (1 - conv_A) / n_A + conv_B * (1 - conv_B) / n_B)\n",
    "diff = conv_B - conv_A\n",
    "confidence_interval = [diff - 1.96 * standard_error, diff + 1.96 * standard_error]\n",
    "print(f\"95% Confidence Interval: {confidence_interval}\")"
   ]
  },
  {
   "cell_type": "code",
   "execution_count": 6,
   "id": "d223452e-8f8c-4ded-b082-08a07f832713",
   "metadata": {},
   "outputs": [
    {
     "name": "stderr",
     "output_type": "stream",
     "text": [
      "C:\\Users\\Luxshi\\AppData\\Local\\Temp\\ipykernel_3184\\3434989210.py:2: FutureWarning: \n",
      "\n",
      "The `ci` parameter is deprecated. Use `errorbar=('ci', False)` for the same effect.\n",
      "\n",
      "  sns.barplot(x='group', y='converted', data=df, ci=False)\n"
     ]
    },
    {
     "data": {
      "image/png": "[encoded data removed]",
      "text/plain": [
       "<Figure size 640x480 with 1 Axes>"
      ]
     },
     "metadata": {},
     "output_type": "display_data"
    }
   ],
   "source": [
    "# Step 5: Visualization\n",
    "sns.barplot(x='group', y='converted', data=df, ci=False)\n",
    "plt.title('Conversion Rates by Group')\n",
    "plt.xlabel('Group')\n",
    "plt.ylabel('Conversion Rate')\n",
    "plt.show()\n"
   ]
  },
  {
   "cell_type": "code",
   "execution_count": null,
   "id": "9b4c2ed4-3302-41d9-b142-015f99243004",
   "metadata": {},
   "outputs": [],
   "source": [
    "# Step 6: Conclusion\n",
    "if p_value < 0.05:\n",
    "    print(\"Reject the null hypothesis: Significant difference between A and B\")\n",
    "else:\n",
    "    print(\"Fail to reject the null hypothesis: No significant difference between A and B\")"
   ]
  }
 ],
 "metadata": {
  "kernelspec": {
   "display_name": "Python 3 (ipykernel)",
   "language": "python",
   "name": "python3"
  },
  "language_info": {
   "codemirror_mode": {
    "name": "ipython",
    "version": 3
   },
   "file_extension": ".py",
   "mimetype": "text/x-python",
   "name": "python",
   "nbconvert_exporter": "python",
   "pygments_lexer": "ipython3",
   "version": "3.11.7"
  }
 },
 "nbformat": 4,
 "nbformat_minor": 5
}
